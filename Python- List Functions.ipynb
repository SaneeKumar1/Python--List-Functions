{
 "cells": [
  {
   "cell_type": "markdown",
   "id": "051cec91-9daa-4cfa-8651-db18b9556040",
   "metadata": {},
   "source": [
    "Q1. What is the syntax for adding an element to a list in Python?"
   ]
  },
  {
   "cell_type": "markdown",
   "id": "dc7c2f94-52bb-4ce5-bc65-e6f21afea43d",
   "metadata": {},
   "source": [
    "my_list.append(element)\n",
    "\n",
    "or\n",
    "\n",
    "my_list.insert(index, element)"
   ]
  },
  {
   "cell_type": "markdown",
   "id": "f132cd2f-7575-4028-8f66-cce6dec4876c",
   "metadata": {},
   "source": [
    "Q2. What is the difference between remove() and pop() functions in Python?"
   ]
  },
  {
   "cell_type": "markdown",
   "id": "ef44cde0-6fcd-48dd-90db-54fb0d44ed3b",
   "metadata": {},
   "source": [
    "The remove() function is used to remove the first occurrence of a given element from a list. It takes one argument which is the value to be removed from the list. If the value is not found in the list, it raises a ValueError.\n",
    "\n",
    "pop() function is used to remove an element from a list by its index, and returns the removed value. It takes one argument which is the index of the element to be removed. If no argument is passed, it removes and returns the last element in the list."
   ]
  },
  {
   "cell_type": "markdown",
   "id": "42f6deb7-09f1-4cfa-8a49-3c83bac8ea6a",
   "metadata": {},
   "source": [
    "Q3. Write a Python code to sort a list in descending order."
   ]
  },
  {
   "cell_type": "markdown",
   "id": "09fd403c-f465-4ec7-849a-5e99743e7b9b",
   "metadata": {},
   "source": [
    "my_list = [4, 1, 3, 5, 2]\n",
    "\n",
    "my_list.sort()\n",
    "my_list.reverse()\n",
    "\n",
    "print(my_list)"
   ]
  },
  {
   "cell_type": "markdown",
   "id": "3b8301a6-968f-4380-9dd1-b1829f7e2e63",
   "metadata": {},
   "source": [
    "Q4. Write a Python code to count the number of occurrences of an element in a list."
   ]
  },
  {
   "cell_type": "code",
   "execution_count": 13,
   "id": "84f560e5-e3b7-4a54-b4b1-3222b05aae73",
   "metadata": {},
   "outputs": [
    {
     "name": "stdout",
     "output_type": "stream",
     "text": [
      "2\n"
     ]
    }
   ],
   "source": [
    "my_list = [10, 5, 8, 20, 3, 9, 10, 20, 5]\n",
    "count=my_list.count(10)\n",
    "print(count)\n"
   ]
  },
  {
   "cell_type": "markdown",
   "id": "d1d0bddd-98d5-4063-8d53-931b7988dc15",
   "metadata": {},
   "source": [
    "Q5. Write a Python code to reverse a list."
   ]
  },
  {
   "cell_type": "code",
   "execution_count": 14,
   "id": "ec3bb5a2-05ce-4d46-9e62-77afb1558d5d",
   "metadata": {},
   "outputs": [
    {
     "name": "stdout",
     "output_type": "stream",
     "text": [
      "[9, 3, 20, 8, 5, 10]\n"
     ]
    }
   ],
   "source": [
    "my_list = [10, 5, 8, 20, 3, 9]\n",
    "my_list.reverse()\n",
    "print(my_list)"
   ]
  },
  {
   "cell_type": "markdown",
   "id": "5aea5222-714a-449f-95d8-3307eae862af",
   "metadata": {},
   "source": [
    "or"
   ]
  },
  {
   "cell_type": "code",
   "execution_count": 17,
   "id": "508da64b-07d0-4682-a37a-e5ea2f7d3edf",
   "metadata": {},
   "outputs": [
    {
     "name": "stdout",
     "output_type": "stream",
     "text": [
      "[9, 3, 20, 8, 5, 10]\n"
     ]
    }
   ],
   "source": [
    "my_list = [10, 5, 8, 20, 3, 9]\n",
    "my_list = my_list[::-1]\n",
    "print(my_list)"
   ]
  }
 ],
 "metadata": {
  "kernelspec": {
   "display_name": "Python 3 (ipykernel)",
   "language": "python",
   "name": "python3"
  },
  "language_info": {
   "codemirror_mode": {
    "name": "ipython",
    "version": 3
   },
   "file_extension": ".py",
   "mimetype": "text/x-python",
   "name": "python",
   "nbconvert_exporter": "python",
   "pygments_lexer": "ipython3",
   "version": "3.10.8"
  }
 },
 "nbformat": 4,
 "nbformat_minor": 5
}
